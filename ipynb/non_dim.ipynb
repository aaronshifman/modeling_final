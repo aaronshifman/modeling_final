{
 "cells": [
  {
   "cell_type": "markdown",
   "metadata": {},
   "source": [
    "$\\dot{x} = c(y+x-\\frac{x^3}{3} + z)\\\\ \\dot{y} = \\frac{-1}{c}(x-\\alpha+\\beta y)$"
   ]
  },
  {
   "cell_type": "markdown",
   "metadata": {},
   "source": [
    "Written explicitly with time is"
   ]
  },
  {
   "cell_type": "markdown",
   "metadata": {},
   "source": [
    "$ \\frac{dx}{dt} = c(y+x-\\frac{x^3}{3} + z)\\\\ \\frac{dy}{dt} = \\frac{-1}{c}(x-\\alpha+\\beta y)$"
   ]
  },
  {
   "cell_type": "markdown",
   "metadata": {},
   "source": [
    "Suppose $x = \\chi \\bar{x}$, $y = \\gamma \\bar{y}$ and $t = \\tau \\bar{t}$. It follows that"
   ]
  },
  {
   "cell_type": "markdown",
   "metadata": {},
   "source": [
    "$\\frac{d(\\chi \\bar{x})}{d(\\tau \\bar{t})} = c(\\gamma \\bar{y} +\\chi \\bar{x}-\\frac{\\chi^3\\bar{x}^3}{3} + z)\\\\ \\frac{d(\\gamma \\bar{y})}{d(\\tau \\bar{t})} = \\frac{-1}{c}(\\chi \\bar{x}-\\alpha+\\beta \\gamma \\bar{y})$"
   ]
  },
  {
   "cell_type": "markdown",
   "metadata": {},
   "source": [
    "Simplifying the above gives us"
   ]
  },
  {
   "cell_type": "markdown",
   "metadata": {},
   "source": [
    "$\\frac{d\\chi}{d\\tau} = c\\frac{\\gamma \\bar{y} \\bar{t}}{\\bar{x}} + c\\chi\\bar{t} - \\frac{c\\chi^2 \\bar{x}^2\\bar{t}}{3} + \\frac{zc\\bar{t}}{\\bar{x}}\\\\\n",
    "\\frac{d\\gamma}{d\\tau} = \\frac{-\\chi\\bar{x}\\bar{t}}{\\bar{y}c} + \\frac{\\alpha\\bar{t}}{\\bar{y}c} - \\frac{\\gamma\\beta\\bar{t}}{c}\n",
    "$"
   ]
  },
  {
   "cell_type": "markdown",
   "metadata": {},
   "source": [
    "Setting $\\bar{t} \\equiv c$"
   ]
  },
  {
   "cell_type": "markdown",
   "metadata": {},
   "source": [
    "$\\frac{d\\chi}{d\\tau} = \\frac{\\gamma \\bar{y}}{\\bar{x}} + \\chi - \\frac{\\chi^3 \\bar{x}^2}{3} + \\frac{z}{\\bar{x}}\\\\\n",
    "\\frac{d\\gamma}{d\\tau} = \\frac{-\\chi\\bar{x}}{\\bar{y}c^2} + \\frac{\\alpha}{\\bar{y}c^2} - \\frac{\\gamma\\beta}{c^2}\n",
    "$"
   ]
  },
  {
   "cell_type": "markdown",
   "metadata": {},
   "source": [
    "Again we take $\\bar{y} \\equiv \\frac 1 {c^2}$"
   ]
  },
  {
   "cell_type": "markdown",
   "metadata": {},
   "source": [
    "$\\frac{d\\chi}{d\\tau} = \\frac{\\gamma \\bar{y}}{\\bar{x}} + \\chi - \\frac{\\chi^2 \\bar{x}^2}{3} + \\frac{z}{\\bar{x}}\\\\\n",
    "\\frac{d\\gamma}{d\\tau} = -\\chi\\bar{x} + \\alpha - \\gamma\\bar{y}\\beta\n",
    "$"
   ]
  },
  {
   "cell_type": "markdown",
   "metadata": {},
   "source": [
    "We take scaling factors $\\bar{x},\\bar{y}$ to be 1. Since this model was derived as a topologically equivalent system - it shouldn't be surprising that $x,y \\equiv \\chi,\\gamma$"
   ]
  },
  {
   "cell_type": "markdown",
   "metadata": {},
   "source": [
    "$\\frac{d\\chi}{d\\tau} = \\gamma + \\chi - \\frac{\\chi^3}{3} + z\\\\\n",
    "\\frac{d\\gamma}{d\\tau} = -\\chi + \\alpha - \\gamma\\beta\n",
    "$"
   ]
  },
  {
   "cell_type": "markdown",
   "metadata": {},
   "source": [
    "Which is a non dimensionalized version of our system - having 2 parameters $\\alpha,\\beta$ and bifurcation parameter $z$"
   ]
  }
 ],
 "metadata": {
  "kernelspec": {
   "display_name": "Julia 0.3.11",
   "language": "julia",
   "name": "julia-0.3"
  },
  "language_info": {
   "file_extension": ".jl",
   "mimetype": "application/julia",
   "name": "julia",
   "version": "0.3.11"
  }
 },
 "nbformat": 4,
 "nbformat_minor": 0
}
