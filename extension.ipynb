{
 "cells": [
  {
   "cell_type": "markdown",
   "metadata": {},
   "source": [
    "## Amyloid $\\beta$ Deposition Inhibits Appropriate Neuronal Excitation Patterns"
   ]
  },
  {
   "cell_type": "markdown",
   "metadata": {},
   "source": [
    "#### Modeling Alzheimer's Progression using Hodgkin Huxley Excitation Dynamics"
   ]
  },
  {
   "cell_type": "markdown",
   "metadata": {},
   "source": [
    "Aaron R. Shifman, Christopher B. Cole"
   ]
  },
  {
   "cell_type": "markdown",
   "metadata": {},
   "source": [
    "**Motivation:** Alzheimer's is the 6$^{th}$ leading cause of death in the United states with over 5 million affected individuals in 2015 alone. By 2050, Alzheimer's will cost America an estimated $1.1 trillion dollars in untimely loss of quality adjusted life years and medical procedures. Understanding and preventing Alzheimers is an important issue in medical science, and mathematical tools for prediction and modeling are becoming more and more accepted. In the current article we suggest an extension to the Hodgkin Huxley model for neuronal excitation which takes into account several new variables relating to Alzheimer's and dimensia in general.\n",
    "\n",
    "\n",
    "We present the original model modified with: \n",
    "\n",
    "1. Amyloid $\\beta$ deposition and subsequent clearance dynamics, modulated by\n",
    "    1. Stage of Alzheimer's (Early, middle, late)\n",
    "    2. ApoE4 genetic mutation carier status\n",
    "2. Spread of Amyloid $\\beta$ plaques throughout the brain and effect on proper neural function\n",
    "3. Medicinal opportunties and outcomes related to usual pharmaceudical interventions."
   ]
  },
  {
   "cell_type": "markdown",
   "metadata": {},
   "source": [
    "**Statement of Original Model:** From [previous documentation](https://www.juliabox.org/notebooks/modeling_final/non_dim.ipynb), our original model \n",
    "\n",
    "$$ \\begin{aligned} \\dot{x} &= c(y+x-\\frac{x^3}{3} + z)\\\\ \\dot{y} &= \\frac{-1}{c}(x-\\alpha+\\beta y) \\end{aligned} $$\n",
    "\n",
    "has been non-dimensionalized to have two parameters ($\\alpha$, $\\beta$) and a bifurcation parameter $z$. Written explicity with time, \n",
    "\n",
    "$$ \\begin{aligned} \\frac{d\\chi}{d\\tau} &= \\gamma + \\chi - \\frac{\\chi^3}{3} + z \\\\\n",
    "\\frac{d\\gamma}{d\\tau} &= -\\chi + \\alpha - \\gamma\\beta \\end{aligned} $$"
   ]
  },
  {
   "cell_type": "markdown",
   "metadata": {},
   "source": [
    "**Things to do:**\n",
    "\n",
    "- Modify parameters based on A$\\beta$ levels\n",
    "    - Maybe $z$? If $z < -0.4$ish then breaks the cycle and thigns don't meet anymore. As $z$ decreases, then time between firing increases (because you need a larger stimulus to make it pop?) until it finally stops being able to do it. Make $z$ into $A_{\\beta}$ and make it depend on time.\n",
    " \n",
    "$$ \\begin{aligned} Z &\\equiv A_{\\beta} \\\\ \\dot{A_{\\beta}} &= \\text{rate}_{deposit} - \\text{rate}_{clearance} \\\\  \\end{aligned} $$"
   ]
  },
  {
   "cell_type": "code",
   "execution_count": null,
   "metadata": {
    "collapsed": true
   },
   "outputs": [],
   "source": []
  }
 ],
 "metadata": {
  "kernelspec": {
   "display_name": "Julia 0.3.12",
   "language": "julia",
   "name": "julia-0.3"
  },
  "language_info": {
   "file_extension": ".jl",
   "mimetype": "application/julia",
   "name": "julia",
   "version": "0.3.12"
  }
 },
 "nbformat": 4,
 "nbformat_minor": 0
}
