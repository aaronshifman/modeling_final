{
 "cells": [
  {
   "cell_type": "markdown",
   "metadata": {},
   "source": [
    "nullcline analysis crap"
   ]
  },
  {
   "cell_type": "markdown",
   "metadata": {},
   "source": [
    "$\\dot{x} = x-\\frac{x^3}{3}-y + I\\\\ \\dot{y} = \\phi (x-\\alpha-\\beta y)$"
   ]
  },
  {
   "cell_type": "markdown",
   "metadata": {},
   "source": [
    "$\\dot{x} = 0 \\Rightarrow y = x-\\frac{x^3}{3} + I\\\\ \\dot{y} = 0 \\Rightarrow y = \\frac{(x-\\alpha)}{\\beta}$"
   ]
  },
  {
   "cell_type": "markdown",
   "metadata": {},
   "source": [
    "Stability:"
   ]
  },
  {
   "cell_type": "markdown",
   "metadata": {},
   "source": [
    "$\\dot{x} = \\dot{y} = 0 \\Rightarrow x- \\frac{x^3}{3} + I = \\frac{x-\\alpha}{\\beta} \\\\\n",
    "x- \\frac{x^3}{3} - \\frac{x}{\\beta} +\\frac{\\alpha}{\\beta} + I= 0\n",
    "$"
   ]
  },
  {
   "cell_type": "markdown",
   "metadata": {},
   "source": [
    "$x(1-\\frac{x^2}{3}-\\frac{1}{\\beta}) + \\frac{\\alpha}{\\beta}+I$"
   ]
  }
 ],
 "metadata": {
  "kernelspec": {
   "display_name": "Julia 0.3.12",
   "language": "julia",
   "name": "julia-0.3"
  },
  "language_info": {
   "file_extension": ".jl",
   "mimetype": "application/julia",
   "name": "julia",
   "version": "0.3.12"
  }
 },
 "nbformat": 4,
 "nbformat_minor": 0
}
