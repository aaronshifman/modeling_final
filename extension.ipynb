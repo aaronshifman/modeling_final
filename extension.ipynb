{
 "cells": [
  {
   "cell_type": "markdown",
   "metadata": {},
   "source": [
    "## Amyloid $\\beta$ Deposition Inhibits Appropriate Neuronal Excitation Patterns"
   ]
  },
  {
   "cell_type": "markdown",
   "metadata": {},
   "source": [
    "#### Modeling Alzheimer's Progression using Hodgkin Huxley Excitation Dynamics"
   ]
  },
  {
   "cell_type": "markdown",
   "metadata": {},
   "source": [
    "Aaron R. Shifman, Christopher B. Cole"
   ]
  },
  {
   "cell_type": "markdown",
   "metadata": {},
   "source": [
    "**Motivation:** Alzheimer's is the 6$^{th}$ leading cause of death in the United states with over 5 million affected individuals in 2015 alone. By 2050, Alzheimer's will cost America an estimated $1.1 trillion dollars in untimely loss of quality adjusted life years and medical procedures. Understanding and preventing Alzheimers is an important issue in medical science, and mathematical tools for prediction and modeling are becoming more and more accepted. In the current article we suggest an extension to the Hodgkin Huxley model for neuronal excitation which takes into account several new variables relating to Alzheimer's and dimensia in general.\n",
    "\n",
    "\n",
    "We present the original model modified with: \n",
    "\n",
    "1. Amyloid $\\beta$ deposition and subsequent clearance dynamics, modulated by\n",
    "    1. Stage of Alzheimer's (Early, middle, late)\n",
    "    2. ApoE4 genetic mutation carier status\n",
    "2. Spread of Amyloid $\\beta$ plaques throughout the brain and effect on proper neural function\n",
    "    1. Discrete spatial model\n",
    "3. Medicinal opportunties and outcomes related to usual pharmaceudical interventions.\n",
    "\n",
    "List of assumptions:\n",
    "\n",
    "1. Alzheimer's only increases; i.e. no recovery is possible without drug intervention\n",
    "2. etc."
   ]
  },
  {
   "cell_type": "markdown",
   "metadata": {},
   "source": [
    "**Statement of Original Model:** From [previous documentation](https://www.juliabox.org/notebooks/modeling_final/non_dim.ipynb), our original model \n",
    "\n",
    "$\\dot{x} = x-\\frac{x^3}{3}-y + z\\\\ \\dot{y} = \\phi (x-\\alpha-\\beta y)$"
   ]
  },
  {
   "cell_type": "markdown",
   "metadata": {},
   "source": [
    "**Things to do:**\n",
    "\n",
    "\n",
    "1. amyloid beta stuff and apoe4\n",
    "\n",
    "    - Modify parameters based on A$\\beta$ levels\n",
    "    - Maybe $z$? If $z < -0.4$ish then breaks the cycle and thigns don't meet anymore. As $z$ decreases, then time between firing increases (because you need a larger stimulus to make it pop?) until it finally stops being able to do it. Make $z$ into $A_{\\beta}$ and make it depend on time.\n",
    " \n",
    "$$ \\begin{aligned} Z &\\equiv A_{\\beta} \\\\ \\dot{A_{\\beta}} &= \\text{rate}_{deposit} - \\text{rate}_{clearance} \\\\  \\end{aligned} $$\n",
    " \n",
    "    - It is known that ApoE4 prevents the reuptake and increases the deposition of a$\\beta$, thus $Z$ will decrease faster. apoe4 acts in an additive way, i.e. $2=2\\cdot1$\n",
    "    \n",
    "$$ \\begin{aligned} ApoE4 &\\in \\{ 0, 1, 2 \\} \\\\ \\dot{A_{\\beta}} = ( \\text{rate}_{deposit} + ApoE4 \\cdot \\text{rate}_{deposit} )  &- ( \\text{rate}_{clearance} + ApoE4 \\cdot \\text{rate}_{clearance} ) \\end{aligned}$$\n",
    "\n",
    "    - So if ApoE4 = 0, then stable, and if apoe4 = 1 then slowly declines, and if apoe4 = 2, then declines even faster\n",
    "    \n",
    "2. spatial component\n",
    "\n",
    "    - set up an $n \\times m$ matrix which is the brain with neurons $N_{i,j}$ with $i = 1 ... n$ and $j = 1 ... m$\n",
    "\n",
    "$$ \\begin{bmatrix} N_{1,1} & N_{2,1} & ... & N_{i, 1} \\\\ N_{1,2} & ... & ... & ... \\\\ ... & ... & ... & ... \\\\ N_{1,j} & ... & ... & N_{i,j} \\end{bmatrix} $$"
   ]
  },
  {
   "cell_type": "code",
   "execution_count": null,
   "metadata": {
    "collapsed": true
   },
   "outputs": [],
   "source": []
  }
 ],
 "metadata": {
  "kernelspec": {
   "display_name": "Julia 0.3.12",
   "language": "julia",
   "name": "julia-0.3"
  },
  "language_info": {
   "file_extension": ".jl",
   "mimetype": "application/julia",
   "name": "julia",
   "version": "0.3.12"
  }
 },
 "nbformat": 4,
 "nbformat_minor": 0
}
